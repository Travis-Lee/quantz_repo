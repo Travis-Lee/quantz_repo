{
 "metadata": {
  "language_info": {
   "codemirror_mode": {
    "name": "ipython",
    "version": 3
   },
   "file_extension": ".py",
   "mimetype": "text/x-python",
   "name": "python",
   "nbconvert_exporter": "python",
   "pygments_lexer": "ipython3",
   "version": "3.7.9-final"
  },
  "orig_nbformat": 2,
  "kernelspec": {
   "name": "python3",
   "display_name": "Python 3",
   "language": "python"
  }
 },
 "nbformat": 4,
 "nbformat_minor": 2,
 "cells": [
  {
   "cell_type": "code",
   "execution_count": null,
   "metadata": {},
   "outputs": [],
   "source": [
    "import requests\n",
    "import json\n",
    "import os"
   ]
  },
  {
   "cell_type": "code",
   "execution_count": null,
   "metadata": {},
   "outputs": [],
   "source": [
    "from quantz_repo import utils\n",
    "cfg = utils.initialize_quantz_config()\n",
    "print(cfg.fred_api_key)\n",
    "print(cfg.finnhub_api_key)\n",
    "print(cfg.iexcloud_api_token)\n",
    "print(cfg.quandl_api_key)\n",
    "#print(cfg.whatever)"
   ]
  },
  {
   "cell_type": "code",
   "execution_count": null,
   "metadata": {},
   "outputs": [],
   "source": [
    "class Fred:\n",
    "    '''\n",
    "    直接返回获取的 json 或者 抛出异常提示错误\n",
    "    '''\n",
    "    def __init__(self):\n",
    "        '''\n",
    "        get Fred 数据\n",
    "        TODO: 通过配置或环境变量获取 Api Key\n",
    "\n",
    "        '''\n",
    "        self.api_key = cfg.fred_api_key\n",
    "        #get_fred_api_key_from_cfg()\n",
    "        if self.api_key is None:\n",
    "            raise Exception('Fred Api Key can not be empty')\n",
    "        self.path='https://api.stlouisfed.org/fred'\n",
    "\n",
    "    def __get(self, args):\n",
    "        print('__get:%s' % self.path)\n",
    "        print(args)\n",
    "        resp = None\n",
    "        if len(args) == 0:\n",
    "            resp = requests.get(self.path, params={'api_key':self.api_key, 'file_type':'json'})\n",
    "        elif len(args) == 1:\n",
    "            params={'api_key':self.api_key, 'file_type':'json'}\n",
    "            params.update(args[0])\n",
    "            print(params)\n",
    "            resp = requests.get(self.path, params=params)\n",
    "        else:\n",
    "            print('Invalid args%s' % args)\n",
    "            return None\n",
    "        # TODO: 增加网络错误的处理\n",
    "        # print(resp.json())\n",
    "        return resp.json()\n",
    "\n",
    "    def __getattr__(self, name):\n",
    "        '''\n",
    "        __getattr__ 在需要的属性没有找到的情况下会调用\n",
    "        __getattribute__ 在读取任何属性的时候都会调用\n",
    "        '''\n",
    "        self.path = '%s/%s' % (self.path, name)\n",
    "        return self\n",
    "\n",
    "    def __str__(self):\n",
    "        return self.path\n",
    "\n",
    "    def __call__(self,*args):\n",
    "        return self.__get(args)"
   ]
  },
  {
   "source": [
    "wei_json = Fred().series.observations({'series_id':'wei', 'sort_order':'desc'})\n"
   ],
   "cell_type": "code",
   "metadata": {
    "tags": []
   },
   "execution_count": null,
   "outputs": []
  },
  {
   "cell_type": "code",
   "execution_count": null,
   "metadata": {
    "tags": [
     "outputPrepend"
    ]
   },
   "outputs": [],
   "source": [
    "print(len(wei_json['observations']))\n",
    "print(wei_json)"
   ]
  },
  {
   "cell_type": "code",
   "execution_count": null,
   "metadata": {},
   "outputs": [],
   "source": [
    "import pandas as pd\n",
    "from pandas import DataFrame\n",
    "import numpy as np\n",
    "# wei_df = pd.read_json(StringIO(str(wei_json['observations'])))\n"
   ]
  },
  {
   "cell_type": "code",
   "execution_count": null,
   "metadata": {},
   "outputs": [],
   "source": [
    "wei_df = DataFrame(wei_json['observations'])\n",
    "wei_df['value'] = wei_df['value'].astype(np.float)\n",
    "wei_df['date'] = wei_df['date'].astype(np.datetime64) \n",
    "wei_df['date'] = wei_df['date'].astype(np.int64)\n",
    "wei_df['date'] = wei_df['date']/100000\n",
    "wei_df['date'] = wei_df['date'].astype(np.int64)\n",
    "wei_df.drop(axis=1, inplace=True, columns=['realtime_start', 'realtime_end'])\n",
    "print(wei_df.dtypes)\n",
    "print(wei_df.head)\n"
   ]
  },
  {
   "cell_type": "code",
   "execution_count": null,
   "metadata": {},
   "outputs": [],
   "source": []
  }
 ]
}
