{
 "metadata": {
  "language_info": {
   "codemirror_mode": {
    "name": "ipython",
    "version": 3
   },
   "file_extension": ".py",
   "mimetype": "text/x-python",
   "name": "python",
   "nbconvert_exporter": "python",
   "pygments_lexer": "ipython3",
   "version": "3.8.5-final"
  },
  "orig_nbformat": 2,
  "kernelspec": {
   "name": "python3",
   "display_name": "Python 3.8.5 64-bit ('anaconda3': conda)",
   "metadata": {
    "interpreter": {
     "hash": "b2b0a29accff2419246006d9804a63c938f83a05bd140e762b39f3dde3be2d87"
    }
   }
  }
 },
 "nbformat": 4,
 "nbformat_minor": 2,
 "cells": [
  {
   "cell_type": "code",
   "execution_count": null,
   "metadata": {},
   "outputs": [],
   "source": [
    "import requests\n",
    "import json\n",
    "import os"
   ]
  },
  {
   "cell_type": "code",
   "execution_count": null,
   "metadata": {},
   "outputs": [],
   "source": [
    "def get_fred_api_key_from_cfg(path:str='quantz_cfg.json'):\n",
    "    try:\n",
    "        with open(path, 'r') as f:\n",
    "            config = json.load(f)\n",
    "            return config['fred_api_key']\n",
    "    except BaseException as e:\n",
    "        print('Failed to get fred api key from %s cause %s' % (path, e))\n",
    "        return None\n",
    "\n",
    "get_fred_api_key_from_cfg()"
   ]
  },
  {
   "cell_type": "code",
   "execution_count": null,
   "metadata": {},
   "outputs": [],
   "source": [
    "class Fred:\n",
    "    '''\n",
    "    直接返回获取的 json 或者 抛出异常提示错误\n",
    "    '''\n",
    "    def __init__(self):\n",
    "        '''\n",
    "        get Fred 数据\n",
    "        TODO: 通过配置或环境变量获取 Api Key\n",
    "\n",
    "        '''\n",
    "        self.api_key = get_fred_api_key_from_cfg()\n",
    "        if self.api_key is None:\n",
    "            raise Exception('Fred Api Key can not be empty')\n",
    "        self.path='https://api.stlouisfed.org/fred'\n",
    "\n",
    "    def __get(self, args):\n",
    "        print('__get:%s' % self.path)\n",
    "        print(args)\n",
    "        resp = None\n",
    "        if len(args) == 0:\n",
    "            resp = requests.get(self.path, params={'api_key':self.api_key, 'file_type':'json'})\n",
    "        elif len(args) == 1:\n",
    "             params={'api_key':self.api_key, 'file_type':'json'}\n",
    "             params.update(args[0])\n",
    "             print(params)\n",
    "             resp = requests.get(self.path, params=params)\n",
    "        else:\n",
    "            print('Invalid args%s' % args)\n",
    "        # TODO: 增加网络错误的处理\n",
    "        # print(resp.json())\n",
    "        return resp.json()\n",
    "\n",
    "    def __getattr__(self, name):\n",
    "        '''\n",
    "        __getattr__ 在需要的属性没有找到的情况下会调用\n",
    "        __getattribute__ 在读取任何属性的时候都会调用\n",
    "        '''\n",
    "        self.path = '%s/%s' % (self.path, name)\n",
    "        return self\n",
    "\n",
    "    def __str__(self):\n",
    "        return self.path\n",
    "\n",
    "    def __call__(self,*args):\n",
    "        return self.__get(args)"
   ]
  },
  {
   "source": [
    "print(Fred().series({'series_id':'GNPCA', 'realtime_start':'2019-08-14', 'realtime_end':'2021-03-04'}))\n",
    "print(Fred().sources())"
   ],
   "cell_type": "code",
   "metadata": {
    "tags": []
   },
   "execution_count": null,
   "outputs": []
  },
  {
   "cell_type": "code",
   "execution_count": null,
   "metadata": {},
   "outputs": [],
   "source": []
  }
 ]
}