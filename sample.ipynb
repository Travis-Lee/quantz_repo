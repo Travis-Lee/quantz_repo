{
 "metadata": {
  "language_info": {
   "codemirror_mode": {
    "name": "ipython",
    "version": 3
   },
   "file_extension": ".py",
   "mimetype": "text/x-python",
   "name": "python",
   "nbconvert_exporter": "python",
   "pygments_lexer": "ipython3",
   "version": "3.7.9"
  },
  "orig_nbformat": 2,
  "kernelspec": {
   "name": "python379jvsc74a57bd071f6857cf858e82f08e51db6e4c1b96872470771b3527ae99480ed086fdc08aa",
   "display_name": "Python 3.7.9 64-bit ('quant': conda)"
  }
 },
 "nbformat": 4,
 "nbformat_minor": 2,
 "cells": [
  {
   "cell_type": "code",
   "execution_count": null,
   "metadata": {},
   "outputs": [],
   "source": [
    "import quantz_repo\n",
    "import pandas as pd\n",
    "from pandas import DataFrame, Series\n",
    "import tushare  as ts\n",
    "import akshare as ak\n",
    "from quantz_repo import utils,QuantzException\n",
    "from quantz_repo.utils import df_2_mongo, mongo_2_df, yyyymmdd_2_int\n",
    "from quantz_repo.model import BasicStockInfoItem, BasicTradingInfoItem, UsJoblessInitialClaimItem\n",
    "from quantz_repo.models import MarketWidthItem\n",
    "from quantz_repo.utils import get_next_day_in_YYYYMMDD, timestamp_2_YYYYMMDD, round_half_up,now_2_YYYYMMDD\n",
    "from quantz_repo.utils import Fred\n",
    "from quantz_repo import initialize_daily_trading_info, update_daily_trading_info_for,get_stock_basics, get_trade_dates_between,get_last_trade_date_in_ms_for\n",
    "import numpy as np\n",
    "import requests\n",
    "from bs4 import BeautifulSoup\n",
    "import json\n",
    "from io import StringIO\n",
    "import datetime\n",
    "\n",
    "import mongoengine\n",
    "mongoengine.connect('quantz')\n",
    "# mongoengine.connect('quant_test', host='192.168.70.200', port=27017)"
   ]
  },
  {
   "cell_type": "code",
   "execution_count": null,
   "metadata": {
    "tags": []
   },
   "outputs": [],
   "source": [
    "rank_industry_level_at(level='L1',trade_date=1619625600000)"
   ]
  },
  {
   "cell_type": "code",
   "execution_count": null,
   "metadata": {
    "tags": []
   },
   "outputs": [],
   "source": [
    "rank_industry_level_at(level='L2',trade_date=1606060800000)"
   ]
  },
  {
   "cell_type": "code",
   "execution_count": null,
   "metadata": {
    "tags": []
   },
   "outputs": [],
   "source": [
    "rank_industry_level_at(level='L3',trade_date=1606060800000)"
   ]
  },
  {
   "cell_type": "code",
   "execution_count": null,
   "metadata": {
    "tags": [
     "outputPrepend"
    ]
   },
   "outputs": [],
   "source": [
    "rank_industry_level_between()"
   ]
  },
  {
   "cell_type": "code",
   "execution_count": null,
   "metadata": {
    "tags": []
   },
   "outputs": [],
   "source": [
    "rank_all_industry_between(since='20210427',end='20210506')"
   ]
  },
  {
   "cell_type": "code",
   "execution_count": null,
   "metadata": {},
   "outputs": [],
   "source": [
    "quantz_repo.init_trade_calendar()"
   ]
  },
  {
   "cell_type": "code",
   "execution_count": null,
   "metadata": {
    "tags": [
     "outputPrepend"
    ]
   },
   "outputs": [],
   "source": [
    "quantz_repo.update_daily_trading_info()"
   ]
  },
  {
   "cell_type": "code",
   "execution_count": null,
   "metadata": {
    "tags": [
     "outputPrepend"
    ]
   },
   "outputs": [],
   "source": [
    "# quantz_repo.update_daily_trading_info()\n",
    "quantz_repo.initialize_daily_trading_info()"
   ]
  },
  {
   "source": [
    "# update_daily_trading_info_for('000003.SZ')"
   ],
   "cell_type": "code",
   "metadata": {},
   "execution_count": null,
   "outputs": []
  },
  {
   "cell_type": "code",
   "execution_count": null,
   "metadata": {},
   "outputs": [],
   "source": [
    "# 获取股票基本信息\n",
    "quantz_repo.get_stock_basics()"
   ]
  },
  {
   "cell_type": "code",
   "execution_count": null,
   "metadata": {},
   "outputs": [],
   "source": [
    "# 更定股票基本信息\n",
    "quantz_repo.update_stock_basics()"
   ]
  },
  {
   "cell_type": "code",
   "execution_count": null,
   "metadata": {
    "tags": [
     "outputPrepend"
    ]
   },
   "outputs": [],
   "source": [
    "# 初始化行业分类\n",
    "quantz_repo.initialize_industrial_classification()"
   ]
  },
  {
   "cell_type": "code",
   "execution_count": null,
   "metadata": {
    "tags": [
     "outputPrepend"
    ]
   },
   "outputs": [],
   "source": [
    "# 更新行业分类\n",
    "quantz_repo.update_industry_classification()"
   ]
  },
  {
   "cell_type": "code",
   "execution_count": null,
   "metadata": {
    "tags": [
     "outputPrepend"
    ]
   },
   "outputs": [],
   "source": [
    "quantz_repo.rank_all_industry_between('20180101', '20210510')"
   ]
  },
  {
   "cell_type": "code",
   "execution_count": null,
   "metadata": {
    "tags": [
     "outputPrepend"
    ]
   },
   "outputs": [],
   "source": [
    "quantz_repo.rank_all_industry()"
   ]
  },
  {
   "cell_type": "code",
   "execution_count": null,
   "metadata": {},
   "outputs": [],
   "source": [
    "quantz_repo.get_us_initial_jobless()"
   ]
  },
  {
   "cell_type": "code",
   "execution_count": null,
   "metadata": {},
   "outputs": [],
   "source": [
    "quantz_repo.get_us_wei()"
   ]
  },
  {
   "cell_type": "code",
   "execution_count": null,
   "metadata": {},
   "outputs": [],
   "source": [
    "quantz_repo.get_us_ccsa()"
   ]
  },
  {
   "cell_type": "code",
   "execution_count": null,
   "metadata": {},
   "outputs": [],
   "source": [
    "import pandas as pd\n",
    "import tushare as ts\n",
    "from pandas import DataFrame\n",
    "import datetime\n",
    "\n",
    "\n",
    "PRICE_COLS = ['open', 'close', 'high', 'low', 'pre_close']\n",
    "FORMAT = lambda x: '%.4f' % x\n",
    "\n",
    "\"\"\"\n",
    "def yyyymmdd_2_int(yyyymmdd: str) -> int:\n",
    "    '''\n",
    "    返回对应时间的毫秒值\n",
    "    '''\n",
    "    return int(datetime.datetime.strptime(yyyymmdd, '%Y%m%d').timestamp()) * 1000\n",
    "\"\"\"\n",
    "\n",
    "def batch_bar(ts_code='', start_date='', end_date='', freq='D', asset='E', adj=None):\n",
    "    bars = ts.pro_bar(ts_code=ts_code, start_date=start_date, end_date=end_date, freq=freq, asset=asset)\n",
    "    bars['freq']='D'\n",
    "    if adj is not None:\n",
    "        fcts = ts.pro_api().adj_factor(ts_code=ts_code, start_date=start_date, end_date=end_date)\n",
    "        if fcts.shape[0] == 0:\n",
    "            print('Failed to get adj factors')\n",
    "            return\n",
    "        result = DataFrame()\n",
    "        for code in ts_code.split(','):\n",
    "            code = code.strip()\n",
    "            cur_bars = bars[bars['ts_code'] == code].reset_index(drop=True)\n",
    "            cur_fcts = fcts[fcts['ts_code'] == code].reset_index(drop=True)[['trade_date', 'adj_factor']]\n",
    "            if cur_bars.empty:\n",
    "                print('No valid bar for %s between %s - %s, please check it' % (code,start_date, end_date))\n",
    "                continue\n",
    "            cur_bars = cur_bars.set_index('trade_date', drop=False).merge(cur_fcts.set_index('trade_date'), left_index=True, right_index=True, how='left')\n",
    "            if 'min' in freq:\n",
    "                cur_bars = cur_bars.sort_values('trade_time', ascending=False)\n",
    "            cur_bars['adj_factor'] = cur_bars['adj_factor'].fillna(method='bfill')\n",
    "            print('cur code:%s' % code)\n",
    "            print('cur_bars')\n",
    "            print(cur_bars)\n",
    "            print('cur_fcts')\n",
    "            print(cur_fcts)\n",
    "            if adj is not None and cur_fcts.empty:\n",
    "                print('Could not adj price for %s between %s-%s, cause adj factor empty' % (code, start_date, end_date))\n",
    "            for col in PRICE_COLS:\n",
    "                if adj == 'hfq' and not cur_fcts.empty:\n",
    "                    cur_bars[col] = cur_bars[col] * cur_bars['adj_factor']\n",
    "                if adj == 'qfq' and not cur_fcts.empty:\n",
    "                    cur_bars[col] = cur_bars[col] * cur_bars['adj_factor'] / float(cur_fcts['adj_factor'][0])\n",
    "                cur_bars[col] = cur_bars[col].map(FORMAT)\n",
    "                cur_bars[col] = cur_bars[col].astype(float)\n",
    "            cur_bars = cur_bars.drop('adj_factor', axis=1)\n",
    "            if 'min' not in freq:\n",
    "                cur_bars['change'] = cur_bars['close'] - cur_bars['pre_close']\n",
    "                cur_bars['pct_chg'] = cur_bars['change'] / cur_bars['pre_close'] * 100\n",
    "                cur_bars['pct_chg'] = cur_bars['pct_chg'].map(lambda x: FORMAT(x)).astype(float)\n",
    "            else:\n",
    "                cur_bars = cur_bars.drop(['trade_date', 'pre_close'], axis=1)\n",
    "            cur_bars.reset_index(drop=True, inplace=True)\n",
    "            result = pd.concat([result, cur_bars], ignore_index=True)\n",
    "        bars = result.reset_index(drop=True)\n",
    "        bars['trade_date'] = bars['trade_date'].map(yyyymmdd_2_int)\n",
    "    print('batch bars')\n",
    "    print(bars)\n",
    "    return bars\n",
    "\n",
    "\n",
    "\n",
    "# Sbars = batch_bar('603986.SH,000001.SZ,000002.SZ', start_date='20210520', end_date='20210522', adj='qfq')"
   ]
  },
  {
   "cell_type": "code",
   "execution_count": null,
   "metadata": {},
   "outputs": [],
   "source": [
    "from quantz_repo.model import BasicTradingInfoItem\n",
    "from quantz_repo.utils import df_2_mongo\n",
    "import sys\n",
    "\n",
    "def trading_info_2_mongo(info:DataFrame):\n",
    "    if info is None or info.empty:\n",
    "        print('Skip empty data')\n",
    "        return\n",
    "    info = info.sort_values(by='trade_date', axis=0,ascending=True,ignore_index=True)\n",
    "    last = BasicTradingInfoItem.objects(ts_code=info['ts_code'][0], freq=info['freq'][0]).order_by('-trade_date').limit(1).first()\n",
    "    start_date = last.trade_date if last is not None else -sys.maxsize-1\n",
    "    print(info[info['trade_date'] > start_date])\n",
    "    df_2_mongo(info[info['trade_date'] > start_date], BasicTradingInfoItem)\n",
    "    print('done')\n",
    "    return None\n",
    "    \n",
    "\n",
    "\n",
    "def update_daily_trading_info_in_batch(ts_code, start_date, end_date):\n",
    "    print('gogogo')\n",
    "    bars = batch_bar(ts_code=ts_code, start_date=start_date,end_date=end_date,adj='qfq')\n",
    "    print(bars)\n",
    "    if bars is None or bars.empty:\n",
    "        print('None bar for %s between %s - %s' % (ts_code, start_date, end_date))\n",
    "    print(bars)\n",
    "    for code in ts_code.split(','):\n",
    "        trading_info_2_mongo(bars[bars['ts_code']==code.strip()])\n",
    "    print('zzzzz')\n",
    "    return None\n",
    "\n",
    "# update_daily_trading_info_in_batch('603986.SH,000001.SZ,000002.SZ', start_date='20210520', end_date='20210522')\n",
    "# update_daily_trading_info_in_batch(ts_code='3300979.SZ,300980.SZ,300981.SZ,300982.SZ,300983.SZ,300985.SZ,300986.SZ,300987.SZ,300988.SZ,300989.SZ,300990.SZ,300991.SZ,300993.SZ,300999.SZ,600000.SH,600004.SH,600006.SH,600007.SH,600008.SH,600009.SH,600010.SH,600011.SH,600012.SH,600015.SH,600016.SH,600017.SH,600018.SH,600019.SH,600020.SH,600021.SH,600022.SH,600023.SH,600025.SH,600026.SH,600027.SH,600028.SH,600029.SH,600030.SH,600031.SH,600033.SH,600035.SH,600036.SH,600037.SH,600038.SH,600039.SH,600048.SH,600050.SH,600051.SH,600052.SH,600053.SH,600054.SH,600055.SH,600056.SH,600057.SH,600058.SH,600059.SH,600060.SH,600061.SH,600062.SH,600063.SH,600064.SH,600066.SH,600067.SH,600068.SH,600070.SH,600071.SH,600072.SH,600073.SH,600075.SH,600076.SH,600077.SH,600078.SH,600079.SH,600080.SH,600081.SH,600082.SH,600083.SH,600084.SH,600085.SH,600088.SH,600089.SH,600090.SH,600091.SH,600093.SH,600094.SH,600095.SH,600096.SH,600097.SH,600098.SH,600099.SH,600100.SH,600101.SH,600103.SH,600104.SH,600105.SH,600106.SH,600107.SH,600108.SH,600109.SH,600110.SH', start_date='20210510', end_date='20210519')"
   ]
  },
  {
   "cell_type": "code",
   "execution_count": null,
   "metadata": {
    "tags": [
     "outputPrepend"
    ]
   },
   "outputs": [],
   "source": [
    "from mongoengine import Document,LongField,StringField\n",
    "\n",
    "class TradingInfoUpdateMetaItem(Document):\n",
    "    # D W M Y H Min\n",
    "    freq = StringField(required=True)\n",
    "    # 上次成功更新的时间，以 ms 表示\n",
    "    last_ok_date = LongField(required=True)\n",
    "\n",
    "def get_last_ok_date(freq='D') -> str:\n",
    "    last = TradingInfoUpdateMetaItem.objects(freq='D').order_by('-last_ok_date').limit(1).first()\n",
    "    last_ms = last.last_ok_date if last is not None else get_last_trade_date_in_ms_for(exchange='SSE', adj=True)\n",
    "    return timestamp_2_YYYYMMDD(last_ms)\n",
    "\n",
    "def save_last_ok_date(trade_date, freq='D'):\n",
    "    TradingInfoUpdateMetaItem(last_ok_date=yyyymmdd_2_int(trade_date), freq='D').save()\n",
    "\n",
    "def update_all_daily_trading_info_in_batch():\n",
    "    start_date = get_last_ok_date(freq='D')\n",
    "    end_date = timestamp_2_YYYYMMDD(get_last_trade_date_in_ms_for(exchange='SSE', adj=True))\n",
    "    if start_date is None or start_date == '' or end_date is None or end_date == '':\n",
    "        print('Failed to update all daily trading info case invalid trade date(%s-%s)' % (start_date, end_date))\n",
    "        return\n",
    "    try:\n",
    "        basics = quantz_repo.get_stock_basics()\n",
    "        data = basics\n",
    "        count = 0\n",
    "        # Tushare限制最大100个\n",
    "        batch_size = 100\n",
    "        size = data.shape[0]\n",
    "        done = False\n",
    "        while not done:\n",
    "            start = batch_size * count\n",
    "            end = batch_size * (count + 1)\n",
    "            if end > data.shape[0]:\n",
    "                end = data.shape[0]\n",
    "                done = True\n",
    "            ts_codes = str(data['ts_code'][start:end].to_string(header=False, index=False))\n",
    "            ts_codes = ts_codes.replace('\\n', ',')\n",
    "            # print(ts_codes)\n",
    "            update_daily_trading_info_in_batch(ts_codes, start_date, end_date)\n",
    "            print('####################')\n",
    "            count = count + 1\n",
    "    except Exception as e:\n",
    "        print('Something is wrong' )\n",
    "        raise QuantzException('Failed to update all daily trading info') from e\n",
    "    else:\n",
    "        save_last_ok_date(end_date, freq='D')\n",
    "        print('Update daily trading info to %s ✔✔✔' % end_date)\n",
    "\n",
    "\n",
    "update_all_daily_trading_info_in_batch()"
   ]
  },
  {
   "cell_type": "code",
   "execution_count": null,
   "metadata": {},
   "outputs": [],
   "source": [
    "ts.pro_api().adj_factor(ts_code='689009.SH')"
   ]
  },
  {
   "cell_type": "code",
   "execution_count": null,
   "metadata": {},
   "outputs": [],
   "source": [
    "TradingInfoUpdateMetaItem(last_ok_date=yyyymmdd_2_int('20210525'), freq='D').save()"
   ]
  },
  {
   "cell_type": "code",
   "execution_count": null,
   "metadata": {},
   "outputs": [],
   "source": []
  }
 ]
}