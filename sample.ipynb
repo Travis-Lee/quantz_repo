{
 "metadata": {
  "language_info": {
   "codemirror_mode": {
    "name": "ipython",
    "version": 3
   },
   "file_extension": ".py",
   "mimetype": "text/x-python",
   "name": "python",
   "nbconvert_exporter": "python",
   "pygments_lexer": "ipython3",
   "version": "3.7.6-final"
  },
  "orig_nbformat": 2,
  "kernelspec": {
   "name": "python37464bitquantcondafc2ea6e5ed204141930db6ab3b0cfde5",
   "display_name": "Python 3.7.4 64-bit ('quant': conda)"
  }
 },
 "nbformat": 4,
 "nbformat_minor": 2,
 "cells": [
  {
   "cell_type": "code",
   "execution_count": null,
   "metadata": {},
   "outputs": [],
   "source": [
    "import quantz_repo\n",
    "import pandas as pd\n",
    "from pandas import DataFrame, Series\n",
    "import tushare  as ts\n",
    "import akshare as ak\n",
    "from quantz_repo.utils import df_2_mongo, mongo_2_df, yyyymmdd_2_int\n",
    "from quantz_repo.model import BasicStockInfoItem, BasicTradingInfoItem\n",
    "from quantz_repo.utils import get_next_day_in_YYYYMMDD, timestamp_2_YYYYMMDD\n",
    "from quantz_repo import initialize_daily_trading_info, update_daily_trading_info_for,get_stock_basics\n",
    "\n",
    "import mongoengine\n",
    "mongoengine.connect('quant_test')"
   ]
  },
  {
   "cell_type": "code",
   "execution_count": null,
   "metadata": {
    "tags": [
     "outputPrepend"
    ]
   },
   "outputs": [],
   "source": [
    "quantz_repo.update_daily_trading_info()"
   ]
  },
  {
   "source": [
    "# update_daily_trading_info_for('000003.SZ')"
   ],
   "cell_type": "code",
   "metadata": {},
   "execution_count": null,
   "outputs": []
  },
  {
   "cell_type": "code",
   "execution_count": null,
   "metadata": {},
   "outputs": [],
   "source": [
    "# 获取股票基本信息\n",
    "# quantz_repo.get_stock_basics()"
   ]
  },
  {
   "cell_type": "code",
   "execution_count": null,
   "metadata": {},
   "outputs": [],
   "source": [
    "# 更定股票基本信息\n",
    "# quantz_repo.update_stock_basics()"
   ]
  },
  {
   "cell_type": "code",
   "execution_count": null,
   "metadata": {},
   "outputs": [],
   "source": []
  }
 ]
}