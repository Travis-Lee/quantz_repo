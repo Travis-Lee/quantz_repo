{
 "metadata": {
  "language_info": {
   "codemirror_mode": {
    "name": "ipython",
    "version": 3
   },
   "file_extension": ".py",
   "mimetype": "text/x-python",
   "name": "python",
   "nbconvert_exporter": "python",
   "pygments_lexer": "ipython3",
   "version": "3.7.9"
  },
  "orig_nbformat": 2,
  "kernelspec": {
   "name": "python379jvsc74a57bd071f6857cf858e82f08e51db6e4c1b96872470771b3527ae99480ed086fdc08aa",
   "display_name": "Python 3.7.9 64-bit ('quant': conda)"
  }
 },
 "nbformat": 4,
 "nbformat_minor": 2,
 "cells": [
  {
   "cell_type": "code",
   "execution_count": null,
   "metadata": {},
   "outputs": [],
   "source": [
    "import quantz_repo\n",
    "import pandas as pd\n",
    "from pandas import DataFrame, Series\n",
    "import tushare  as ts\n",
    "import akshare as ak\n",
    "from quantz_repo import utils,QuantzException\n",
    "from quantz_repo.utils import df_2_mongo, mongo_2_df, yyyymmdd_2_int\n",
    "from quantz_repo.model import BasicStockInfoItem, BasicTradingInfoItem, UsJoblessInitialClaimItem\n",
    "from quantz_repo.models import MarketWidthItem\n",
    "from quantz_repo.utils import get_next_day_in_YYYYMMDD, timestamp_2_YYYYMMDD, round_half_up,now_2_YYYYMMDD\n",
    "from quantz_repo.utils import Fred\n",
    "from quantz_repo import initialize_daily_trading_info, update_daily_trading_info_for,get_stock_basics, get_trade_dates_between,get_last_trade_date_in_ms_for\n",
    "import numpy as np\n",
    "import requests\n",
    "from bs4 import BeautifulSoup\n",
    "import json\n",
    "from io import StringIO\n",
    "import datetime\n",
    "\n",
    "import mongoengine\n",
    "mongoengine.connect('quantz')\n",
    "# mongoengine.connect('quant_test', host='192.168.70.200', port=27017)"
   ]
  },
  {
   "cell_type": "code",
   "execution_count": null,
   "metadata": {
    "tags": []
   },
   "outputs": [],
   "source": [
    "rank_industry_level_at(level='L1',trade_date=1619625600000)"
   ]
  },
  {
   "cell_type": "code",
   "execution_count": null,
   "metadata": {
    "tags": []
   },
   "outputs": [],
   "source": [
    "rank_industry_level_at(level='L2',trade_date=1606060800000)"
   ]
  },
  {
   "cell_type": "code",
   "execution_count": null,
   "metadata": {
    "tags": []
   },
   "outputs": [],
   "source": [
    "rank_industry_level_at(level='L3',trade_date=1606060800000)"
   ]
  },
  {
   "cell_type": "code",
   "execution_count": null,
   "metadata": {
    "tags": [
     "outputPrepend"
    ]
   },
   "outputs": [],
   "source": [
    "rank_industry_level_between()"
   ]
  },
  {
   "cell_type": "code",
   "execution_count": null,
   "metadata": {
    "tags": []
   },
   "outputs": [],
   "source": [
    "rank_all_industry_between(since='20210427',end='20210506')"
   ]
  },
  {
   "cell_type": "code",
   "execution_count": null,
   "metadata": {},
   "outputs": [],
   "source": [
    "quantz_repo.init_trade_calendar()"
   ]
  },
  {
   "cell_type": "code",
   "execution_count": null,
   "metadata": {
    "tags": [
     "outputPrepend"
    ]
   },
   "outputs": [],
   "source": [
    "quantz_repo.update_daily_trading_info()"
   ]
  },
  {
   "cell_type": "code",
   "execution_count": null,
   "metadata": {
    "tags": [
     "outputPrepend"
    ]
   },
   "outputs": [],
   "source": [
    "# quantz_repo.update_daily_trading_info()\n",
    "quantz_repo.initialize_daily_trading_info()"
   ]
  },
  {
   "source": [
    "# update_daily_trading_info_for('000003.SZ')"
   ],
   "cell_type": "code",
   "metadata": {},
   "execution_count": null,
   "outputs": []
  },
  {
   "cell_type": "code",
   "execution_count": null,
   "metadata": {},
   "outputs": [],
   "source": [
    "# 获取股票基本信息\n",
    "quantz_repo.get_stock_basics()"
   ]
  },
  {
   "cell_type": "code",
   "execution_count": null,
   "metadata": {},
   "outputs": [],
   "source": [
    "# 更定股票基本信息\n",
    "quantz_repo.update_stock_basics()"
   ]
  },
  {
   "cell_type": "code",
   "execution_count": null,
   "metadata": {
    "tags": [
     "outputPrepend"
    ]
   },
   "outputs": [],
   "source": [
    "# 初始化行业分类\n",
    "quantz_repo.initialize_industrial_classification()"
   ]
  },
  {
   "cell_type": "code",
   "execution_count": null,
   "metadata": {
    "tags": [
     "outputPrepend"
    ]
   },
   "outputs": [],
   "source": [
    "# 更新行业分类\n",
    "quantz_repo.update_industry_classification()"
   ]
  },
  {
   "cell_type": "code",
   "execution_count": null,
   "metadata": {
    "tags": [
     "outputPrepend"
    ]
   },
   "outputs": [],
   "source": [
    "quantz_repo.rank_all_industry_between('20180101', '20210510')"
   ]
  },
  {
   "cell_type": "code",
   "execution_count": null,
   "metadata": {
    "tags": [
     "outputPrepend"
    ]
   },
   "outputs": [],
   "source": [
    "quantz_repo.rank_all_industry()"
   ]
  },
  {
   "cell_type": "code",
   "execution_count": null,
   "metadata": {},
   "outputs": [],
   "source": [
    "quantz_repo.get_us_initial_jobless()"
   ]
  },
  {
   "cell_type": "code",
   "execution_count": null,
   "metadata": {},
   "outputs": [],
   "source": [
    "quantz_repo.get_us_wei()"
   ]
  },
  {
   "cell_type": "code",
   "execution_count": null,
   "metadata": {},
   "outputs": [],
   "source": [
    "quantz_repo.get_us_ccsa()"
   ]
  },
  {
   "cell_type": "code",
   "execution_count": null,
   "metadata": {},
   "outputs": [],
   "source": [
    "quantz_repo.update_all_daily_trading_info_in_batch()"
   ]
  }
 ]
}