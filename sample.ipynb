{
 "metadata": {
  "language_info": {
   "codemirror_mode": {
    "name": "ipython",
    "version": 3
   },
   "file_extension": ".py",
   "mimetype": "text/x-python",
   "name": "python",
   "nbconvert_exporter": "python",
   "pygments_lexer": "ipython3",
   "version": "3.7.6-final"
  },
  "orig_nbformat": 2,
  "kernelspec": {
   "name": "python37464bitquantcondafc2ea6e5ed204141930db6ab3b0cfde5",
   "display_name": "Python 3.7.4 64-bit ('quant': conda)",
   "language": "python"
  }
 },
 "nbformat": 4,
 "nbformat_minor": 2,
 "cells": [
  {
   "cell_type": "code",
   "execution_count": null,
   "metadata": {},
   "outputs": [],
   "source": [
    "import quantz_repo\n",
    "import pandas as pd\n",
    "from pandas import DataFrame, Series\n",
    "import tushare  as ts\n",
    "import akshare as ak\n",
    "from quantz_repo.utils import df_2_mongo, mongo_2_df, yyyymmdd_2_int\n",
    "from quantz_repo.model import BasicStockInfoItem, BasicTradingInfoItem\n",
    "from quantz_repo.models import MarketWidthItem\n",
    "from quantz_repo.utils import get_next_day_in_YYYYMMDD, timestamp_2_YYYYMMDD, round_half_up\n",
    "from quantz_repo import initialize_daily_trading_info, update_daily_trading_info_for,get_stock_basics\n",
    "\n",
    "import mongoengine\n",
    "mongoengine.connect('quant_test')\n",
    "# mongoengine.connect('quant_test', host='192.168.70.200', port=27017)"
   ]
  },
  {
   "cell_type": "code",
   "execution_count": null,
   "metadata": {},
   "outputs": [],
   "source": [
    "# 获取一级行业分类列表\n",
    "# industries_df = quantz_repo.get_industrial_classifications(level='L1')"
   ]
  },
  {
   "cell_type": "code",
   "execution_count": null,
   "metadata": {},
   "outputs": [],
   "source": [
    "# 获取行业内股票列表\n",
    "stock_array = list(quantz_repo.get_industrial_classfication_members('801770.SI')['con_code'].array)"
   ]
  },
  {
   "cell_type": "code",
   "execution_count": null,
   "metadata": {},
   "outputs": [],
   "source": [
    "BasicTradingInfoItem.objects(ts_code__in = stock_array,trade_date=1605801600000).to_json()"
   ]
  },
  {
   "cell_type": "code",
   "execution_count": null,
   "metadata": {},
   "outputs": [],
   "source": [
    "BasicTradingInfoItem.objects(__raw__ = {'ts_code':{'$in':stock_array},'trade_date':1605801600000}).to_json()"
   ]
  },
  {
   "cell_type": "code",
   "execution_count": null,
   "metadata": {},
   "outputs": [],
   "source": [
    "'''\n",
    "如何初始化过去的市场宽度？ \n",
    "1）从何时开始? 20140101\n",
    "2）是否所有时间内行业分类的成员是相同的？若不相同如何处理？ 无法拿到当时的数据，按照当前分类处理\n",
    "3）某行业分类内的股票在某段时间之前可能还没有上市，应该如何处理？ 按照当时实际股票个数来计算分数，可能导致很久之前的某个时间，某个股票不会被计算到任意的分数中，接受现状，TODO:以后有数据再更新\n",
    "4) 按照调入日期计算，对于一段时间之前的值计算肯定是不准确的，只能记录当前值逐步积累\n",
    "'''\n",
    "def rank_industry_at(index_code:str, industry_name:str, level:str, trade_date:int, force:bool=False):\n",
    "    '''\n",
    "    计算某个行业在某天的分值，\n",
    "    index_code: 行业代码，申万的\n",
    "    trade_date: 交易日 \n",
    "    force: 是否强制更新\n",
    "    '''\n",
    "    print('rank %s on %s' % (index_code, timestamp_2_YYYYMMDD(trade_date)))\n",
    "    the_item = MarketWidthItem.objects(index_code__icontains=index_code,trade_date=trade_date)\n",
    "    if force:\n",
    "        # 删除已有数据\n",
    "        the_item.delete()\n",
    "        print('Rank deleted')\n",
    "    elif the_item.count() > 0:\n",
    "        print('Already ranked for %s on %s，Skipping' % (index_code, timestamp_2_YYYYMMDD(trade_date)));\n",
    "        return\n",
    "    members = quantz_repo.get_industrial_classfication_members(index_code)\n",
    "    members = members[members['in_date']<=trade_date]\n",
    "    print(members)\n",
    "    if not members.empty:\n",
    "        m_list = list(members['con_code'].array)\n",
    "        # print(m_list)\n",
    "        member_stocks_df = mongo_2_df(BasicTradingInfoItem.objects(ts_code__in=m_list, trade_date=1605801600000))\n",
    "        print(member_stocks_df)\n",
    "        gt_df = member_stocks_df[member_stocks_df['close']>=member_stocks_df['ma_close_20']]\n",
    "        print(gt_df)\n",
    "        rank = round_half_up(100 * gt_df.shape[0] / member_stocks_df.shape[0])\n",
    "        print('rank: %f' % rank)\n",
    "        MarketWidthItem(index_code=index_code, industry_name=industry_name,industry_level=level,rank=rank,trade_date=trade_date).save()\n",
    "    else:\n",
    "        print('None memeber in %s before %s' % (index_code, timestamp_2_YYYYMMDD(trade_date)))\n",
    "    \n",
    "    \n",
    "\n",
    "# rank_industry_at('801081.SI', 1606060800000, force=True)"
   ]
  },
  {
   "cell_type": "code",
   "execution_count": null,
   "metadata": {
    "tags": [
     "outputPrepend"
    ]
   },
   "outputs": [],
   "source": [
    "def rank_industry_level_at(level:str, trade_date:int, force:bool=False):\n",
    "    industries_df = quantz_repo.get_industrial_classifications(level=level)\n",
    "    if industries_df is  None or industries_df.empty:\n",
    "        print('Failed to get industry classification for %s' % level) \n",
    "    else:\n",
    "        for i in industries_df.itertuples():\n",
    "            rank_industry_at(i.index_code, i.industry_name, level, trade_date, force)\n",
    "\n",
    "\n",
    "rank_industry_level_at('L1',1606060800000)"
   ]
  },
  {
   "cell_type": "code",
   "execution_count": null,
   "metadata": {
    "tags": [
     "outputPrepend"
    ]
   },
   "outputs": [],
   "source": [
    "rank_industry_level_at('L2',1606060800000)"
   ]
  },
  {
   "cell_type": "code",
   "execution_count": null,
   "metadata": {
    "tags": [
     "outputPrepend"
    ]
   },
   "outputs": [],
   "source": [
    "rank_industry_level_at('L3',1606060800000)"
   ]
  },
  {
   "cell_type": "code",
   "execution_count": null,
   "metadata": {},
   "outputs": [],
   "source": [
    "quantz_repo.init_trade_calendar()"
   ]
  },
  {
   "cell_type": "code",
   "execution_count": null,
   "metadata": {
    "tags": []
   },
   "outputs": [],
   "source": [
    "quantz_repo.update_daily_trading_info()"
   ]
  },
  {
   "cell_type": "code",
   "execution_count": null,
   "metadata": {},
   "outputs": [],
   "source": [
    "def update_industry_level(level:str,start:int, end:int):\n",
    "    '''\n",
    "    '''\n",
    "    # 检查开始、截止时间是否在当前交易日历内,否则要求更新交易日"
   ]
  },
  {
   "source": [
    "# update_daily_trading_info_for('000003.SZ')"
   ],
   "cell_type": "code",
   "metadata": {},
   "execution_count": null,
   "outputs": []
  },
  {
   "cell_type": "code",
   "execution_count": null,
   "metadata": {},
   "outputs": [],
   "source": [
    "# 获取股票基本信息\n",
    "# quantz_repo.get_stock_basics()"
   ]
  },
  {
   "cell_type": "code",
   "execution_count": null,
   "metadata": {},
   "outputs": [],
   "source": [
    "# 更定股票基本信息\n",
    "# quantz_repo.update_stock_basics()"
   ]
  },
  {
   "cell_type": "code",
   "execution_count": null,
   "metadata": {
    "tags": []
   },
   "outputs": [],
   "source": [
    "# 更新行业分类\n",
    "quantz_repo.initialize_industrial_classification()"
   ]
  },
  {
   "cell_type": "code",
   "execution_count": null,
   "metadata": {},
   "outputs": [],
   "source": []
  }
 ]
}