{
 "metadata": {
  "language_info": {
   "codemirror_mode": {
    "name": "ipython",
    "version": 3
   },
   "file_extension": ".py",
   "mimetype": "text/x-python",
   "name": "python",
   "nbconvert_exporter": "python",
   "pygments_lexer": "ipython3",
   "version": "3.8.5-final"
  },
  "orig_nbformat": 2,
  "kernelspec": {
   "name": "python3",
   "display_name": "Python 3",
   "language": "python"
  }
 },
 "nbformat": 4,
 "nbformat_minor": 2,
 "cells": [
  {
   "cell_type": "code",
   "execution_count": null,
   "metadata": {},
   "outputs": [],
   "source": [
    "import datetime\n",
    "import os\n",
    "\n",
    "import pandas as pd\n",
    "import requests\n"
   ]
  },
  {
   "cell_type": "code",
   "execution_count": null,
   "metadata": {},
   "outputs": [],
   "source": [
    "ark_csv_urls = {'ARKK':'https://ark-funds.com/wp-content/fundsiteliterature/csv/ARK_INNOVATION_ETF_ARKK_HOLDINGS.csv',\n",
    "'ARKQ':'https://ark-funds.com/wp-content/fundsiteliterature/csv/ARK_AUTONOMOUS_TECHNOLOGY_&_ROBOTICS_ETF_ARKQ_HOLDINGS.csv',\n",
    "'ARKW':'https://ark-funds.com/wp-content/fundsiteliterature/csv/ARK_NEXT_GENERATION_INTERNET_ETF_ARKW_HOLDINGS.csv',\n",
    "'ARKG':'https://ark-funds.com/wp-content/fundsiteliterature/csv/ARK_GENOMIC_REVOLUTION_MULTISECTOR_ETF_ARKG_HOLDINGS.csv',\n",
    "'ARKF':'https://ark-funds.com/wp-content/fundsiteliterature/csv/ARK_FINTECH_INNOVATION_ETF_ARKF_HOLDINGS.csv',\n",
    "'PRNT':'https://ark-funds.com/wp-content/fundsiteliterature/csv/THE_3D_PRINTING_ETF_PRNT_HOLDINGS.csv',\n",
    "'IZRL':'https://ark-funds.com/wp-content/fundsiteliterature/csv/ARK_ISRAEL_INNOVATIVE_TECHNOLOGY_ETF_IZRL_HOLDINGS.csv'}"
   ]
  },
  {
   "cell_type": "code",
   "execution_count": null,
   "metadata": {},
   "outputs": [],
   "source": [
    "def get_text(url:str)->str:\n",
    "    try:\n",
    "        resp = requests.get(url)\n",
    "        return resp.text\n",
    "    except BaseException as e:\n",
    "        print('Failed to get %s' % url)\n",
    "        return None\n",
    "\n",
    "# get_text('https://ark-funds.com/wp-content/fundsiteliterature/csv/ARK_INNOVATION_ETF_ARKK_HOLDINGS.csv')"
   ]
  },
  {
   "cell_type": "code",
   "execution_count": null,
   "metadata": {},
   "outputs": [],
   "source": [
    "def save_text_2_file(text:str, file:str):\n",
    "    with open(file, 'w') as f:\n",
    "        f.write(text)\n",
    "\n",
    "save_text_2_file('this is the text %s' % datetime.datetime.now(), '/mnt/d/text.txt')\n"
   ]
  },
  {
   "cell_type": "code",
   "execution_count": null,
   "metadata": {},
   "outputs": [],
   "source": [
    "\n",
    "# 存储：目录/EtfName-Date.csv\n",
    "def get_and_save_ark_holdings(storage:str):\n",
    "    os.makedirs(storage, exist_ok=True)\n",
    "    trading_date = datetime.date.today().strftime('%Y%m%d')\n",
    "    for key in ark_csv_urls:\n",
    "        print('%s:%s' % (key, ark_csv_urls[key]))\n",
    "        save_text_2_file(get_text(ark_csv_urls[key]), '%s/%s-%s.csv' % (storage,key,trading_date))\n",
    "\n",
    "get_and_save_ark_holdings('/mnt/d/quant/ark')"
   ]
  },
  {
   "cell_type": "code",
   "execution_count": null,
   "metadata": {},
   "outputs": [],
   "source": []
  }
 ]
}